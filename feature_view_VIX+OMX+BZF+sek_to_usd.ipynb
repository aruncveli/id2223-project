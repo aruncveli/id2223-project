{
 "cells": [
  {
   "metadata": {},
   "cell_type": "code",
   "outputs": [],
   "execution_count": null,
   "source": "import hopsworks",
   "id": "443799f39792cc6e"
  },
  {
   "cell_type": "code",
   "id": "initial_id",
   "metadata": {
    "collapsed": true,
    "ExecuteTime": {
     "end_time": "2025-01-06T12:56:10.734530Z",
     "start_time": "2025-01-06T12:56:00.240164Z"
    }
   },
   "source": [
    "api_key = \"\"\n",
    "project = hopsworks.login(api_key_value=api_key, project=\"ID2223HT24G4\" )\n",
    "fs = project.get_feature_store()"
   ],
   "outputs": [
    {
     "name": "stdout",
     "output_type": "stream",
     "text": [
      "2025-01-06 13:56:01,055 INFO: Initializing external client\n",
      "2025-01-06 13:56:01,056 INFO: Base URL: https://c.app.hopsworks.ai:443\n",
      "2025-01-06 13:56:02,949 INFO: Python Engine initialized.\n",
      "\n",
      "Logged in to project, explore it here https://c.app.hopsworks.ai:443/p/1167511\n",
      "Finished: Reading data from Hopsworks, using Hopsworks Feature Query Service (2.52s) from Hopsworks, using Hopsworks Feature Query Service.   \n",
      "                       date      rate        vix          omx         bzf\n",
      "0 2023-01-23 00:00:00+00:00  10.27713  19.809999  2224.530029   88.190002\n",
      "1 2019-09-24 00:00:00+00:00   9.70560  17.049999  1633.089966   63.099998\n",
      "2 2018-06-14 00:00:00+00:00   8.60550  12.120000  1588.000000   75.940002\n",
      "3 2011-11-07 00:00:00+00:00   6.56820  29.850000   968.390015  114.559998\n",
      "4 2017-07-05 00:00:00+00:00   8.50930  11.070000  1627.209961   47.790001\n"
     ]
    }
   ],
   "execution_count": 1
  },
  {
   "metadata": {},
   "cell_type": "code",
   "outputs": [],
   "execution_count": null,
   "source": [
    "rate_fg = fs.get_feature_group(name=\"sek_to_usd\", version=1)\n",
    "vix_fg = fs.get_feature_group(name=\"vix\", version=1)\n",
    "omx_fg = fs.get_feature_group(name=\"omx\", version=1)\n",
    "bzf_fg = fs.get_feature_group(name=\"bzf\", version=1)\n",
    "\n",
    "query = rate_fg.select([\"date\",\"rate\"]).join(vix_fg.select([\"vix\"]), on=[\"date\"]).join(omx_fg.select([\"omx\"]), on=[\"date\"]).join(bzf_fg.select([\"bzf\"]), on=[\"date\"])\n",
    "\n",
    "joined_data = query.read()\n",
    "print(joined_data.head())"
   ],
   "id": "c77953104b8849c6"
  },
  {
   "metadata": {
    "ExecuteTime": {
     "end_time": "2025-01-06T12:56:30.720034Z",
     "start_time": "2025-01-06T12:56:26.004328Z"
    }
   },
   "cell_type": "code",
   "source": [
    "feature_view = fs.create_feature_view(\n",
    "    name=\"rate_vix_bzf_omx_feature_view\",\n",
    "    description=\"Feature view combining SEK/USD rate, VIX, OMX and BZF\",\n",
    "    query=query\n",
    ")"
   ],
   "id": "f918919157607ce5",
   "outputs": [
    {
     "name": "stdout",
     "output_type": "stream",
     "text": [
      "Feature view created successfully, explore it at \n",
      "https://c.app.hopsworks.ai:443/p/1167511/fs/1158214/fv/rate_vix_bzf_omx_feature_view/version/1\n",
      "Feature view created successfully!\n"
     ]
    }
   ],
   "execution_count": 2
  }
 ],
 "metadata": {
  "kernelspec": {
   "display_name": "Python 3",
   "language": "python",
   "name": "python3"
  },
  "language_info": {
   "codemirror_mode": {
    "name": "ipython",
    "version": 2
   },
   "file_extension": ".py",
   "mimetype": "text/x-python",
   "name": "python",
   "nbconvert_exporter": "python",
   "pygments_lexer": "ipython2",
   "version": "2.7.6"
  }
 },
 "nbformat": 4,
 "nbformat_minor": 5
}
