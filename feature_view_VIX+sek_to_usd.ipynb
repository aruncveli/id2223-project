{
 "cells": [
  {
   "metadata": {},
   "cell_type": "code",
   "outputs": [],
   "execution_count": null,
   "source": "import hopsworks",
   "id": "11c98fcfdedeeda3"
  },
  {
   "cell_type": "code",
   "id": "initial_id",
   "metadata": {
    "collapsed": true,
    "ExecuteTime": {
     "end_time": "2025-01-06T08:56:42.093052Z",
     "start_time": "2025-01-06T08:56:36.000676Z"
    }
   },
   "source": [
    "\n",
    "api_key = \"\"\n",
    "project = hopsworks.login(api_key_value=api_key, project=\"ID2223HT24G4\" )\n",
    "fs = project.get_feature_store()"
   ],
   "outputs": [
    {
     "name": "stdout",
     "output_type": "stream",
     "text": [
      "2025-01-06 09:56:36,003 INFO: Closing external client and cleaning up certificates.\n",
      "Connection closed.\n",
      "2025-01-06 09:56:36,008 INFO: Initializing external client\n",
      "2025-01-06 09:56:36,009 INFO: Base URL: https://c.app.hopsworks.ai:443\n",
      "2025-01-06 09:56:37,316 INFO: Python Engine initialized.\n",
      "\n",
      "Logged in to project, explore it here https://c.app.hopsworks.ai:443/p/1167511\n",
      "Finished: Reading data from Hopsworks, using Hopsworks Feature Query Service (1.10s) \n",
      "                       date      rate        vix\n",
      "0 2023-01-23 00:00:00+00:00  10.27713  19.809999\n",
      "1 2019-09-24 00:00:00+00:00   9.70560  17.049999\n",
      "2 2018-06-14 00:00:00+00:00   8.60550  12.120000\n",
      "3 2011-11-07 00:00:00+00:00   6.56820  29.850000\n",
      "4 2017-07-05 00:00:00+00:00   8.50930  11.070000\n"
     ]
    }
   ],
   "execution_count": 9
  },
  {
   "metadata": {},
   "cell_type": "code",
   "outputs": [],
   "execution_count": null,
   "source": [
    "rate_fg = fs.get_feature_group(name=\"sek_to_usd\", version=1)\n",
    "vix_fg = fs.get_feature_group(name=\"vix\", version=1)\n",
    "\n",
    "query = rate_fg.select([\"date\",\"rate\"]).join(vix_fg.select([\"vix\"]), on=[\"date\"])\n",
    "\n",
    "joined_data = query.read()\n",
    "print(joined_data.head())\n"
   ],
   "id": "f5e6a72bed640f99"
  },
  {
   "metadata": {
    "ExecuteTime": {
     "end_time": "2025-01-06T08:58:14.055532Z",
     "start_time": "2025-01-06T08:58:11.366453Z"
    }
   },
   "cell_type": "code",
   "source": [
    "feature_view = fs.create_feature_view(\n",
    "    name=\"rate_vix_feature_view\",\n",
    "    description=\"Feature view combining SEK/USD rate and VIX data\",\n",
    "    query=query\n",
    ")"
   ],
   "id": "f918919157607ce5",
   "outputs": [
    {
     "name": "stdout",
     "output_type": "stream",
     "text": [
      "Feature view created successfully, explore it at \n",
      "https://c.app.hopsworks.ai:443/p/1167511/fs/1158214/fv/rate_vix_feature_view/version/1\n",
      "Feature view created successfully!\n"
     ]
    }
   ],
   "execution_count": 10
  }
 ],
 "metadata": {
  "kernelspec": {
   "display_name": "Python 3",
   "language": "python",
   "name": "python3"
  },
  "language_info": {
   "codemirror_mode": {
    "name": "ipython",
    "version": 2
   },
   "file_extension": ".py",
   "mimetype": "text/x-python",
   "name": "python",
   "nbconvert_exporter": "python",
   "pygments_lexer": "ipython2",
   "version": "2.7.6"
  }
 },
 "nbformat": 4,
 "nbformat_minor": 5
}
