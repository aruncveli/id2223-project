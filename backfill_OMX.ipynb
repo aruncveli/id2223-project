{
 "cells": [
  {
   "cell_type": "code",
   "id": "initial_id",
   "metadata": {
    "collapsed": true,
    "ExecuteTime": {
     "end_time": "2025-01-06T13:18:05.439309Z",
     "start_time": "2025-01-06T13:18:04.504632Z"
    }
   },
   "source": [
    "import hopsworks\n",
    "import pandas as pd\n",
    "import yfinance as yf"
   ],
   "outputs": [],
   "execution_count": 3
  },
  {
   "metadata": {
    "ExecuteTime": {
     "end_time": "2025-01-06T12:34:18.072401Z",
     "start_time": "2025-01-06T12:34:18.069521Z"
    }
   },
   "cell_type": "code",
   "source": "api_key = \"\"",
   "id": "11d2c753cddf50d",
   "outputs": [],
   "execution_count": 12
  },
  {
   "metadata": {
    "ExecuteTime": {
     "end_time": "2025-01-06T12:34:20.752999Z",
     "start_time": "2025-01-06T12:34:18.090516Z"
    }
   },
   "cell_type": "code",
   "source": [
    "project = hopsworks.login(api_key_value=api_key, project=\"ID2223HT24G4\" )\n",
    "fs = project.get_feature_store()"
   ],
   "id": "ffd4759a21af000c",
   "outputs": [
    {
     "name": "stdout",
     "output_type": "stream",
     "text": [
      "2025-01-06 13:34:18,091 INFO: Closing external client and cleaning up certificates.\n",
      "Connection closed.\n",
      "2025-01-06 13:34:18,095 INFO: Initializing external client\n",
      "2025-01-06 13:34:18,095 INFO: Base URL: https://c.app.hopsworks.ai:443\n",
      "2025-01-06 13:34:19,400 INFO: Python Engine initialized.\n",
      "\n",
      "Logged in to project, explore it here https://c.app.hopsworks.ai:443/p/1167511\n"
     ]
    }
   ],
   "execution_count": 13
  },
  {
   "metadata": {
    "ExecuteTime": {
     "end_time": "2025-01-06T13:18:08.196511Z",
     "start_time": "2025-01-06T13:18:07.738582Z"
    }
   },
   "cell_type": "code",
   "source": [
    "omx = yf.download(\"^OMX\", start=\"2010-01-01\", end=\"2024-12-31\", interval=\"1d\")\n",
    "print(omx.head())"
   ],
   "id": "9e9bf18df5e68ab3",
   "outputs": [
    {
     "name": "stderr",
     "output_type": "stream",
     "text": [
      "[*********************100%***********************]  1 of 1 completed"
     ]
    },
    {
     "name": "stdout",
     "output_type": "stream",
     "text": [
      "Price            Close        High         Low        Open     Volume\n",
      "Ticker            ^OMX        ^OMX        ^OMX        ^OMX       ^OMX\n",
      "Date                                                                 \n",
      "2010-01-04  963.559998  964.729980  951.719971  951.719971   82515400\n",
      "2010-01-05  967.270020  968.679993  961.460022  964.030029   62738400\n",
      "2010-01-07  965.820007  970.260010  962.270020  967.390015  132590900\n",
      "2010-01-08  973.440002  974.900024  965.700012  965.700012  108703800\n",
      "2010-01-11  978.179993  985.690002  973.150024  973.150024  108829800\n"
     ]
    },
    {
     "name": "stderr",
     "output_type": "stream",
     "text": [
      "\n"
     ]
    }
   ],
   "execution_count": 4
  },
  {
   "metadata": {
    "ExecuteTime": {
     "end_time": "2025-01-06T13:17:44.083858Z",
     "start_time": "2025-01-06T13:17:43.949495Z"
    }
   },
   "cell_type": "code",
   "source": [
    "omx = omx[['Close']].rename(columns={'Close': 'omx'})\n",
    "omx.index = pd.to_datetime(omx.index)\n",
    "omx.reset_index(inplace=True)\n",
    "omx.rename(columns={'Date': 'date'}, inplace=True)\n",
    "omx.columns = omx.columns.map(lambda col: col if isinstance(col, str) else col[0])\n",
    "omx.columns = ['date', 'omx']\n",
    "\n",
    "print(omx.head())"
   ],
   "id": "d5df793d71263a57",
   "outputs": [
    {
     "ename": "NameError",
     "evalue": "name 'omx' is not defined",
     "output_type": "error",
     "traceback": [
      "\u001B[0;31m---------------------------------------------------------------------------\u001B[0m",
      "\u001B[0;31mNameError\u001B[0m                                 Traceback (most recent call last)",
      "Cell \u001B[0;32mIn[1], line 1\u001B[0m\n\u001B[0;32m----> 1\u001B[0m omx \u001B[38;5;241m=\u001B[39m \u001B[43momx\u001B[49m[[\u001B[38;5;124m'\u001B[39m\u001B[38;5;124mClose\u001B[39m\u001B[38;5;124m'\u001B[39m]]\u001B[38;5;241m.\u001B[39mrename(columns\u001B[38;5;241m=\u001B[39m{\u001B[38;5;124m'\u001B[39m\u001B[38;5;124mClose\u001B[39m\u001B[38;5;124m'\u001B[39m: \u001B[38;5;124m'\u001B[39m\u001B[38;5;124momx\u001B[39m\u001B[38;5;124m'\u001B[39m})\n\u001B[1;32m      3\u001B[0m omx\u001B[38;5;241m.\u001B[39mindex \u001B[38;5;241m=\u001B[39m pd\u001B[38;5;241m.\u001B[39mto_datetime(omx\u001B[38;5;241m.\u001B[39mindex)\n\u001B[1;32m      5\u001B[0m \u001B[38;5;66;03m# Reset index for easier merging\u001B[39;00m\n",
      "\u001B[0;31mNameError\u001B[0m: name 'omx' is not defined"
     ]
    }
   ],
   "execution_count": 1
  },
  {
   "metadata": {
    "ExecuteTime": {
     "end_time": "2025-01-06T12:34:51.560689Z",
     "start_time": "2025-01-06T12:34:38.429860Z"
    }
   },
   "cell_type": "code",
   "source": [
    "omx_feature_group = fs.create_feature_group(\n",
    "    name=\"omx\",\n",
    "    version=1,\n",
    "    description=\"OMX data\",\n",
    "    primary_key=[\"date\"],  \n",
    "  \n",
    ")\n",
    "\n",
    "omx_feature_group.insert(omx)"
   ],
   "id": "f58008ac1277258e",
   "outputs": [
    {
     "name": "stdout",
     "output_type": "stream",
     "text": [
      "Feature Group created successfully, explore it at \n",
      "https://c.app.hopsworks.ai:443/p/1167511/fs/1158214/fg/1394644\n"
     ]
    },
    {
     "name": "stderr",
     "output_type": "stream",
     "text": [
      "Uploading Dataframe: 100.00% |██████████| Rows 3765/3765 | Elapsed Time: 00:01 | Remaining Time: 00:00\n"
     ]
    },
    {
     "name": "stdout",
     "output_type": "stream",
     "text": [
      "Launching job: omx_1_offline_fg_materialization\n",
      "Job started successfully, you can follow the progress at \n",
      "https://c.app.hopsworks.ai:443/p/1167511/jobs/named/omx_1_offline_fg_materialization/executions\n",
      "VIX feature group created and data inserted successfully!\n"
     ]
    }
   ],
   "execution_count": 19
  }
 ],
 "metadata": {
  "kernelspec": {
   "display_name": "Python 3",
   "language": "python",
   "name": "python3"
  },
  "language_info": {
   "codemirror_mode": {
    "name": "ipython",
    "version": 2
   },
   "file_extension": ".py",
   "mimetype": "text/x-python",
   "name": "python",
   "nbconvert_exporter": "python",
   "pygments_lexer": "ipython2",
   "version": "2.7.6"
  }
 },
 "nbformat": 4,
 "nbformat_minor": 5
}
