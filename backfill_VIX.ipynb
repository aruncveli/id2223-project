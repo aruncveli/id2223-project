{
 "cells": [
  {
   "cell_type": "code",
   "id": "initial_id",
   "metadata": {
    "collapsed": true,
    "ExecuteTime": {
     "end_time": "2025-01-06T13:14:01.801002Z",
     "start_time": "2025-01-06T13:14:00.974467Z"
    }
   },
   "source": [
    "import hopsworks\n",
    "import pandas as pd\n",
    "import yfinance as yf\n"
   ],
   "outputs": [],
   "execution_count": 1
  },
  {
   "metadata": {
    "ExecuteTime": {
     "end_time": "2025-01-06T08:21:17.055863Z",
     "start_time": "2025-01-06T08:21:17.052512Z"
    }
   },
   "cell_type": "code",
   "source": "api_key = \"\"",
   "id": "11d2c753cddf50d",
   "outputs": [],
   "execution_count": 74
  },
  {
   "metadata": {
    "ExecuteTime": {
     "end_time": "2025-01-06T08:21:19.801802Z",
     "start_time": "2025-01-06T08:21:17.068380Z"
    }
   },
   "cell_type": "code",
   "source": [
    "project = hopsworks.login(api_key_value=api_key, project=\"ID2223HT24G4\" )\n",
    "fs = project.get_feature_store()"
   ],
   "id": "ffd4759a21af000c",
   "outputs": [
    {
     "name": "stdout",
     "output_type": "stream",
     "text": [
      "2025-01-06 09:21:17,069 INFO: Closing external client and cleaning up certificates.\n",
      "Connection closed.\n",
      "2025-01-06 09:21:17,081 INFO: Initializing external client\n",
      "2025-01-06 09:21:17,081 INFO: Base URL: https://c.app.hopsworks.ai:443\n",
      "2025-01-06 09:21:18,439 INFO: Python Engine initialized.\n",
      "\n",
      "Logged in to project, explore it here https://c.app.hopsworks.ai:443/p/1167511\n"
     ]
    }
   ],
   "execution_count": 75
  },
  {
   "metadata": {
    "ExecuteTime": {
     "end_time": "2025-01-06T08:21:22.507942Z",
     "start_time": "2025-01-06T08:21:22.459337Z"
    }
   },
   "cell_type": "code",
   "source": [
    "vix = yf.download(\"^VIX\", start=\"2010-01-01\", end=\"2024-12-31\", interval=\"1d\")\n",
    "print(vix.head())\n"
   ],
   "id": "9e9bf18df5e68ab3",
   "outputs": [
    {
     "name": "stderr",
     "output_type": "stream",
     "text": [
      "[*********************100%***********************]  1 of 1 completed"
     ]
    },
    {
     "name": "stdout",
     "output_type": "stream",
     "text": [
      "Price           Close       High        Low       Open Volume\n",
      "Ticker           ^VIX       ^VIX       ^VIX       ^VIX   ^VIX\n",
      "Date                                                         \n",
      "2010-01-04  20.040001  21.680000  20.030001  21.680000      0\n",
      "2010-01-05  19.350000  20.129999  19.340000  20.049999      0\n",
      "2010-01-06  19.160000  19.680000  18.770000  19.590000      0\n",
      "2010-01-07  19.059999  19.709999  18.700001  19.680000      0\n",
      "2010-01-08  18.129999  19.270000  18.110001  19.270000      0\n"
     ]
    },
    {
     "name": "stderr",
     "output_type": "stream",
     "text": [
      "\n"
     ]
    }
   ],
   "execution_count": 78
  },
  {
   "metadata": {
    "ExecuteTime": {
     "end_time": "2025-01-06T08:21:22.518289Z",
     "start_time": "2025-01-06T08:21:22.508758Z"
    }
   },
   "cell_type": "code",
   "source": [
    "vix = vix[['Close']].rename(columns={'Close': 'vix'})\n",
    "vix.index = pd.to_datetime(vix.index)\n",
    "vix.reset_index(inplace=True)\n",
    "vix.rename(columns={'Date': 'date'}, inplace=True)\n",
    "vix.columns = vix.columns.map(lambda col: col if isinstance(col, str) else col[0])\n",
    "vix.columns = ['date', 'vix']\n",
    "\n",
    "print(vix.head())\n",
    "\n",
    "\n"
   ],
   "id": "d5df793d71263a57",
   "outputs": [
    {
     "name": "stdout",
     "output_type": "stream",
     "text": [
      "        date        vix\n",
      "0 2010-01-04  20.040001\n",
      "1 2010-01-05  19.350000\n",
      "2 2010-01-06  19.160000\n",
      "3 2010-01-07  19.059999\n",
      "4 2010-01-08  18.129999\n"
     ]
    }
   ],
   "execution_count": 79
  },
  {
   "metadata": {
    "ExecuteTime": {
     "end_time": "2025-01-06T08:21:22.523024Z",
     "start_time": "2025-01-06T08:21:22.519421Z"
    }
   },
   "cell_type": "code",
   "source": [
    "vix_feature_group = fs.create_feature_group(\n",
    "    name=\"vix\",\n",
    "    version=1,\n",
    "    description=\"CBOE Volatility Index (VIX) data fetched from Yahoo Finance\",\n",
    "    primary_key=[\"date\"],  \n",
    "  \n",
    ")"
   ],
   "id": "f58008ac1277258e",
   "outputs": [
    {
     "name": "stdout",
     "output_type": "stream",
     "text": [
      "VIX feature group created and data inserted successfully!\n"
     ]
    }
   ],
   "execution_count": 80
  }
 ],
 "metadata": {
  "kernelspec": {
   "display_name": "Python 3",
   "language": "python",
   "name": "python3"
  },
  "language_info": {
   "codemirror_mode": {
    "name": "ipython",
    "version": 2
   },
   "file_extension": ".py",
   "mimetype": "text/x-python",
   "name": "python",
   "nbconvert_exporter": "python",
   "pygments_lexer": "ipython2",
   "version": "2.7.6"
  }
 },
 "nbformat": 4,
 "nbformat_minor": 5
}
