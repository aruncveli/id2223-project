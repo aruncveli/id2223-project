{
 "cells": [
  {
   "cell_type": "code",
   "id": "initial_id",
   "metadata": {
    "collapsed": true,
    "ExecuteTime": {
     "end_time": "2025-01-06T12:46:20.782437Z",
     "start_time": "2025-01-06T12:46:20.361860Z"
    }
   },
   "source": [
    "import hopsworks\n",
    "import yfinance as yf\n",
    "import pandas as pd\n"
   ],
   "outputs": [],
   "execution_count": 2
  },
  {
   "metadata": {
    "ExecuteTime": {
     "end_time": "2025-01-06T12:46:20.785299Z",
     "start_time": "2025-01-06T12:46:20.783485Z"
    }
   },
   "cell_type": "code",
   "source": "api_key = \"\"",
   "id": "11d2c753cddf50d",
   "outputs": [],
   "execution_count": 3
  },
  {
   "metadata": {
    "ExecuteTime": {
     "end_time": "2025-01-06T12:46:24.448203Z",
     "start_time": "2025-01-06T12:46:20.789403Z"
    }
   },
   "cell_type": "code",
   "source": [
    "project = hopsworks.login(api_key_value=api_key, project=\"ID2223HT24G4\" )\n",
    "fs = project.get_feature_store()"
   ],
   "id": "ffd4759a21af000c",
   "outputs": [
    {
     "name": "stdout",
     "output_type": "stream",
     "text": [
      "2025-01-06 13:46:20,790 INFO: Initializing external client\n",
      "2025-01-06 13:46:20,791 INFO: Base URL: https://c.app.hopsworks.ai:443\n",
      "2025-01-06 13:46:23,057 INFO: Python Engine initialized.\n",
      "\n",
      "Logged in to project, explore it here https://c.app.hopsworks.ai:443/p/1167511\n"
     ]
    }
   ],
   "execution_count": 4
  },
  {
   "metadata": {
    "ExecuteTime": {
     "end_time": "2025-01-06T12:46:27.383719Z",
     "start_time": "2025-01-06T12:46:27.337327Z"
    }
   },
   "cell_type": "code",
   "source": [
    "bzf = yf.download(\"BZ=F\", start=\"2010-01-01\", end=\"2024-12-31\", interval=\"1d\")\n",
    "print(bzf.head())"
   ],
   "id": "9e9bf18df5e68ab3",
   "outputs": [
    {
     "name": "stderr",
     "output_type": "stream",
     "text": [
      "[*********************100%***********************]  1 of 1 completed"
     ]
    },
    {
     "name": "stdout",
     "output_type": "stream",
     "text": [
      "Price           Close       High        Low       Open Volume\n",
      "Ticker           BZ=F       BZ=F       BZ=F       BZ=F   BZ=F\n",
      "Date                                                         \n",
      "2010-01-04  80.120003  79.820000  80.120003  80.120003     97\n",
      "2010-01-05  80.589996  80.260002  80.589996  80.589996     97\n",
      "2010-01-06  81.889999  81.699997  80.129997  81.129997      7\n",
      "2010-01-07  81.510002  81.510002  81.629997  81.510002      7\n",
      "2010-01-08  81.370003  81.529999  81.089996  81.370003      7\n"
     ]
    },
    {
     "name": "stderr",
     "output_type": "stream",
     "text": [
      "\n"
     ]
    }
   ],
   "execution_count": 7
  },
  {
   "metadata": {
    "ExecuteTime": {
     "end_time": "2025-01-06T12:46:27.394120Z",
     "start_time": "2025-01-06T12:46:27.384659Z"
    }
   },
   "cell_type": "code",
   "source": [
    "bzf = bzf[['Close']].rename(columns={'Close': 'bzf'})\n",
    "bzf.index = pd.to_datetime(bzf.index)\n",
    "bzf.reset_index(inplace=True)\n",
    "bzf.rename(columns={'Date': 'date'}, inplace=True)\n",
    "bzf.columns = bzf.columns.map(lambda col: col if isinstance(col, str) else col[0])\n",
    "bzf.columns = ['date', 'bzf']\n",
    "\n",
    "print(bzf.head())"
   ],
   "id": "d5df793d71263a57",
   "outputs": [
    {
     "name": "stdout",
     "output_type": "stream",
     "text": [
      "        date        bzf\n",
      "0 2010-01-04  80.120003\n",
      "1 2010-01-05  80.589996\n",
      "2 2010-01-06  81.889999\n",
      "3 2010-01-07  81.510002\n",
      "4 2010-01-08  81.370003\n"
     ]
    }
   ],
   "execution_count": 8
  },
  {
   "metadata": {
    "ExecuteTime": {
     "end_time": "2025-01-06T12:46:40.974422Z",
     "start_time": "2025-01-06T12:46:27.400328Z"
    }
   },
   "cell_type": "code",
   "source": [
    "bzf_feature_group = fs.create_feature_group(\n",
    "    name=\"bzf\",\n",
    "    version=1,\n",
    "    description=\"BZ=F data\",\n",
    "    primary_key=[\"date\"],  \n",
    "  \n",
    ")\n",
    "\n",
    "bzf_feature_group.insert(bzf)"
   ],
   "id": "f58008ac1277258e",
   "outputs": [
    {
     "name": "stdout",
     "output_type": "stream",
     "text": [
      "Feature Group created successfully, explore it at \n",
      "https://c.app.hopsworks.ai:443/p/1167511/fs/1158214/fg/1394645\n"
     ]
    },
    {
     "name": "stderr",
     "output_type": "stream",
     "text": [
      "Uploading Dataframe: 100.00% |██████████| Rows 3740/3740 | Elapsed Time: 00:01 | Remaining Time: 00:00\n"
     ]
    },
    {
     "name": "stdout",
     "output_type": "stream",
     "text": [
      "Launching job: bzf_1_offline_fg_materialization\n",
      "Job started successfully, you can follow the progress at \n",
      "https://c.app.hopsworks.ai:443/p/1167511/jobs/named/bzf_1_offline_fg_materialization/executions\n",
      "VIX feature group created and data inserted successfully!\n"
     ]
    }
   ],
   "execution_count": 10
  },
  {
   "metadata": {
    "ExecuteTime": {
     "end_time": "2025-01-06T12:46:40.981878Z",
     "start_time": "2025-01-06T12:46:40.977995Z"
    }
   },
   "cell_type": "code",
   "source": "",
   "id": "8dde5c4496606594",
   "outputs": [],
   "execution_count": 10
  }
 ],
 "metadata": {
  "kernelspec": {
   "display_name": "Python 3",
   "language": "python",
   "name": "python3"
  },
  "language_info": {
   "codemirror_mode": {
    "name": "ipython",
    "version": 2
   },
   "file_extension": ".py",
   "mimetype": "text/x-python",
   "name": "python",
   "nbconvert_exporter": "python",
   "pygments_lexer": "ipython2",
   "version": "2.7.6"
  }
 },
 "nbformat": 4,
 "nbformat_minor": 5
}
